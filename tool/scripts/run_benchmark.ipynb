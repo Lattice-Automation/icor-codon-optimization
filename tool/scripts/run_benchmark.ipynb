{
 "cells": [
  {
   "cell_type": "code",
   "execution_count": 55,
   "metadata": {},
   "outputs": [
    {
     "data": {
      "text/plain": [
       "'\\n- Codon Adaptation Index (CAI)\\n- GC Content\\n- CFD (known un-optimized gene that reduces efficiency)\\n- Negative CIS elements\\n- Negative repeat elements\\n'"
      ]
     },
     "execution_count": 55,
     "metadata": {},
     "output_type": "execute_result"
    }
   ],
   "source": [
    "# An interactive notebook that helps benchmark a directory containing FASTA sequences across the following metrics:\n",
    "'''\n",
    "- Codon Adaptation Index (CAI)\n",
    "- GC Content\n",
    "- CFD (known un-optimized gene that reduces efficiency)\n",
    "- Negative CIS elements\n",
    "- Negative repeat elements\n",
    "'''"
   ]
  },
  {
   "cell_type": "code",
   "execution_count": 56,
   "metadata": {},
   "outputs": [],
   "source": [
    "# import modules\n",
    "from selenium import webdriver\n",
    "from webdriver_manager.chrome import ChromeDriverManager\n",
    "from selenium.webdriver.support.select import Select\n",
    "import os\n",
    "from Bio import SeqIO\n",
    "import time\n",
    "import numpy as np\n",
    "from selenium.webdriver.common.by import By\n",
    "\n",
    "#init webdriver + selenium opts\n",
    "chromeOptions = webdriver.ChromeOptions()"
   ]
  },
  {
   "cell_type": "code",
   "execution_count": 57,
   "metadata": {},
   "outputs": [
    {
     "name": "stderr",
     "output_type": "stream",
     "text": [
      "/var/folders/tj/1_2pmr6d7117vzvp__3lfz280000gn/T/ipykernel_22661/3674656915.py:2: DeprecationWarning: executable_path has been deprecated, please pass in a Service object\n",
      "  browser = webdriver.Chrome(ChromeDriverManager().install(), chrome_options=chromeOptions)\n",
      "/var/folders/tj/1_2pmr6d7117vzvp__3lfz280000gn/T/ipykernel_22661/3674656915.py:2: DeprecationWarning: use options instead of chrome_options\n",
      "  browser = webdriver.Chrome(ChromeDriverManager().install(), chrome_options=chromeOptions)\n"
     ]
    }
   ],
   "source": [
    "#set up chromedriver\n",
    "browser = webdriver.Chrome(ChromeDriverManager().install(), chrome_options=chromeOptions)\n",
    "url_login=\"https://www.genscript.com/tools/rare-codon-analysis\"\n",
    "browser.get(url_login)"
   ]
  },
  {
   "cell_type": "code",
   "execution_count": 58,
   "metadata": {},
   "outputs": [
    {
     "name": "stdout",
     "output_type": "stream",
     "text": [
      "/Users/rishabjain/Desktop/icor-codon-optimization/benchmark_sequences/HFC\n",
      "['CD80_dna.fasta', 'mmpl3_dna.fasta', 'NOC2L_dna.fasta', 'SMARCD1_dna.fasta', 'NGFR_dna.fasta', 'CEBPZ_dna.fasta', 'pea_dna.fasta', 'pak1_dna.fasta', 'ubtf_dna.fasta', 'pa_dna.fasta', 'pim1_dna.fasta', 'CDK1_dna.fasta', 'akt1_dna.fasta', 'CLN3_dna.fasta', 'GSK3B_dna.fasta', 'MAPKAPK5_dna.fasta', 'falvac-1_dna.fasta', 'CREB1_dna.fasta', 'JUN_dna.fasta', 'KIF11_dna.fasta', 'LEMD3_dna.fasta', 'FGFR4_dna.fasta', 'CAV1_dna.fasta', 'BRAF1_dna.fasta', 'npr1_dna.fasta', 'CSNK1A1_dna.fasta', 'LAMP1_dna.fasta', 'PLK1_dna.fasta', 'PDCD11_dna.fasta', 'hpdf_dna.fasta', 'flt1_dna.fasta', 'MAPK1_dna.fasta', 'emg1_dna.fasta', 'ptp4a3_dna.fasta', 'TAP1_dna.fasta', 'OPRM1_dna.fasta', 'RPS6KB1_dna.fasta', 'TAS2R10_dna.fasta', 'BIRC5_dna.fasta', 'lck_dna.fasta']\n"
     ]
    }
   ],
   "source": [
    "#Read all files from directory and create two arrays\n",
    "#One array (arr_names) contains each sequence's name\n",
    "#One array (arr_sequences) contains each sequence's \"seq\"\n",
    "\n",
    "#benchmark_sequences\\dna folder contains the original sequences, so it was used for original benchmarks.\n",
    "#benchmark_sequences\\super_naive contains the super_naive sequences so it was used for those.\n",
    "#benchmark_sequences\\naive contains the naive sequences so it was used for those.\n",
    "#benchmark_sequences\\ICOR contains the ICOR sequences so it was used for those.\n",
    "\n",
    "# hardcoded paths\n",
    "summary_name = \"HFC\"\n",
    "dir = os.path.dirname(os.path.dirname(os.getcwd())) + \"/benchmark_sequences/\" + summary_name\n",
    "print(dir)\n",
    "#initialize arrays\n",
    "arr_names = []\n",
    "arr_sequences = []\n",
    "\n",
    "#read all files from directory\n",
    "for entry in os.scandir(dir):\n",
    "    record = SeqIO.read(entry,'fasta')\n",
    "    arr_names.append(entry.name)\n",
    "    arr_sequences.append(record.seq)\n",
    "\n",
    "#sanity check: print the array names to verify they were read correctly\n",
    "print(arr_names)"
   ]
  },
  {
   "cell_type": "code",
   "execution_count": 59,
   "metadata": {},
   "outputs": [
    {
     "name": "stdout",
     "output_type": "stream",
     "text": [
      "We are now benchmarking sequence #1!\n",
      "We are now benchmarking sequence #2!\n",
      "We are now benchmarking sequence #3!\n",
      "We are now benchmarking sequence #4!\n",
      "We are now benchmarking sequence #5!\n",
      "We are now benchmarking sequence #6!\n",
      "We are now benchmarking sequence #7!\n",
      "We are now benchmarking sequence #8!\n",
      "We are now benchmarking sequence #9!\n",
      "We are now benchmarking sequence #10!\n",
      "We are now benchmarking sequence #11!\n",
      "We are now benchmarking sequence #12!\n",
      "We are now benchmarking sequence #13!\n",
      "We are now benchmarking sequence #14!\n",
      "We are now benchmarking sequence #15!\n",
      "We are now benchmarking sequence #16!\n",
      "We are now benchmarking sequence #17!\n",
      "We are now benchmarking sequence #18!\n",
      "We are now benchmarking sequence #19!\n",
      "We are now benchmarking sequence #20!\n",
      "We are now benchmarking sequence #21!\n",
      "We are now benchmarking sequence #22!\n",
      "We are now benchmarking sequence #23!\n",
      "We are now benchmarking sequence #24!\n",
      "We are now benchmarking sequence #25!\n",
      "We are now benchmarking sequence #26!\n",
      "We are now benchmarking sequence #27!\n",
      "We are now benchmarking sequence #28!\n",
      "We are now benchmarking sequence #29!\n",
      "We are now benchmarking sequence #30!\n",
      "We are now benchmarking sequence #31!\n",
      "We are now benchmarking sequence #32!\n",
      "We are now benchmarking sequence #33!\n",
      "We are now benchmarking sequence #34!\n",
      "We are now benchmarking sequence #35!\n",
      "We are now benchmarking sequence #36!\n",
      "We are now benchmarking sequence #37!\n",
      "We are now benchmarking sequence #38!\n",
      "We are now benchmarking sequence #39!\n",
      "We are now benchmarking sequence #40!\n"
     ]
    }
   ],
   "source": [
    "#initialize benchmark array consisting of the following:\n",
    "benchmarks = np.array([\"Gene Name\", \"CAI\", \"GC Content\", \"CFD\", \"Negative CIS Elements\", \"Negative Repeat Elements\", \"Raw Sequence\"])\n",
    "\n",
    "#loop through each sequence and run the benchmark\n",
    "for i in range(len(arr_sequences)):\n",
    "    \n",
    "    print(\"We are now benchmarking sequence #%d!\" % (i + 1))\n",
    "    analysis_button=browser.find_element(By.NAME, \"op\")\n",
    "    seq_box=browser.find_element(By.NAME, \"seq\")\n",
    "\n",
    "    #clear the sequence box\n",
    "    time.sleep(0.5)\n",
    "    seq_box.clear()\n",
    "    seq_box.send_keys(arr_sequences[i])\n",
    "\n",
    "    #click the analysis button\n",
    "    time.sleep(0.5)\n",
    "    analysis_button.click()\n",
    "\n",
    "    #wait 7s for analysis (doing less may be too fast)\n",
    "    time.sleep(7)\n",
    "\n",
    "    #get tables on genscript page\n",
    "    tables = browser.find_elements(By.XPATH, '//table[1]')\n",
    "\n",
    "    #find seq\n",
    "    seq = str(tables[0].text).split('Sequence')[1].strip().split('\\n')\n",
    "    seq.pop()\n",
    "    seq = \"\".join(seq)\n",
    "\n",
    "    #find body of first table\n",
    "    body_1 = tables[2].text.split('\\n')\n",
    "\n",
    "    #find cai, gc, cfd\n",
    "    CAI = [i for i in body_1 if i.startswith('CAI')][0][4:8]\n",
    "    GC = [i for i in body_1 if i.startswith('GC Content')][0][11:17]\n",
    "    CFD = [i for i in body_1 if i.startswith('CFD')][0][4:7]\n",
    "\n",
    "    #find body of second table\n",
    "    body_2 = tables[3].text.split('\\n')[1].split(' ')\n",
    "\n",
    "    #find negative cis, negative repeats\n",
    "    CIS = body_2[0]\n",
    "    Repeats = body_2[1]\n",
    "    benchmarks = np.vstack((benchmarks,[arr_names[i],CAI,GC,CFD,CIS,Repeats,seq]))\n",
    "    browser.back()\n",
    "\n",
    "    #Wait one second before repeating\n",
    "    time.sleep(1)"
   ]
  },
  {
   "cell_type": "code",
   "execution_count": null,
   "metadata": {},
   "outputs": [],
   "source": [
    "#Save calculated benchmarks to CSV file for later review!\n",
    "#Repeat this script for each benchmark (original, super_naive, naive, ICOR tool)\n",
    "\n",
    "np.savetxt(\"%s.csv\" % (summary_name), benchmarks, fmt='%s', delimiter=\",\")\n",
    "#the saved files were then moved to the summaries directory."
   ]
  }
 ],
 "metadata": {
  "kernelspec": {
   "display_name": "Python 3.9.6 64-bit",
   "language": "python",
   "name": "python3"
  },
  "language_info": {
   "codemirror_mode": {
    "name": "ipython",
    "version": 3
   },
   "file_extension": ".py",
   "mimetype": "text/x-python",
   "name": "python",
   "nbconvert_exporter": "python",
   "pygments_lexer": "ipython3",
   "version": "3.9.6"
  },
  "orig_nbformat": 4,
  "vscode": {
   "interpreter": {
    "hash": "31f2aee4e71d21fbe5cf8b01ff0e069b9275f58929596ceb00d14d90e3e16cd6"
   }
  }
 },
 "nbformat": 4,
 "nbformat_minor": 2
}
