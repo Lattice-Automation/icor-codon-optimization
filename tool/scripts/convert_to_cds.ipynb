{
 "metadata": {
  "language_info": {
   "codemirror_mode": {
    "name": "ipython",
    "version": 3
   },
   "file_extension": ".py",
   "mimetype": "text/x-python",
   "name": "python",
   "nbconvert_exporter": "python",
   "pygments_lexer": "ipython3",
   "version": "3.9.4"
  },
  "orig_nbformat": 4,
  "kernelspec": {
   "name": "python3",
   "display_name": "Python 3.9.4 64-bit"
  },
  "interpreter": {
   "hash": "d9feab5a1f5d805ccfa6afac8eb9a08ce4745df9a38ca9beb1bb90cbf90b919c"
  }
 },
 "nbformat": 4,
 "nbformat_minor": 2,
 "cells": [
  {
   "cell_type": "code",
   "execution_count": 57,
   "source": [
    "# import modules\r\n",
    "from selenium import webdriver\r\n",
    "from webdriver_manager.chrome import ChromeDriverManager\r\n",
    "from selenium.webdriver.support.select import Select\r\n",
    "import os\r\n",
    "from Bio import SeqIO\r\n",
    "import time\r\n",
    "import numpy as np\r\n",
    "\r\n",
    "#init webdriver + selenium opts (must have chrome installed on machine)\r\n",
    "chromeOptions = webdriver.ChromeOptions()\r\n",
    "browser = webdriver.Chrome(ChromeDriverManager().install(), chrome_options=chromeOptions)"
   ],
   "outputs": [
    {
     "output_type": "stream",
     "name": "stderr",
     "text": [
      "\n",
      "\n",
      "====== WebDriver manager ======\n",
      "Current google-chrome version is 91.0.4472\n",
      "Get LATEST driver version for 91.0.4472\n",
      "Driver [C:\\Users\\risha\\.wdm\\drivers\\chromedriver\\win32\\91.0.4472.101\\chromedriver.exe] found in cache\n",
      "<ipython-input-57-4b74c9d43edb>:12: DeprecationWarning: use options instead of chrome_options\n",
      "  browser = webdriver.Chrome(ChromeDriverManager().install(), chrome_options=chromeOptions)\n"
     ]
    }
   ],
   "metadata": {}
  },
  {
   "cell_type": "code",
   "execution_count": 71,
   "source": [
    "'''\r\n",
    "Convert DNA seqs to include CDS only\r\n",
    "Heads to ncbi nuccore webpage for each sequence.\r\n",
    "Grabs the \"CDS\" portion and rewrites the sequences for that portion only.\r\n",
    "'''\r\n",
    "dir = r\"C:\\Users\\risha\\Desktop\\icor-codon-optimization\\benchmark_sequences\\dna\"\r\n",
    "x = 1\r\n",
    "for entry in os.scandir(dir):\r\n",
    "    record = SeqIO.read(entry,'fasta')\r\n",
    "    if record.name.startswith(\"NM\"):\r\n",
    "        # this is fine, but recent python versions support f-strings\n",
    "        # https://realpython.com/python-f-strings/#f-strings-a-new-and-improved-way-to-format-strings-in-python\n",
    "        browser.get(\"https://www.ncbi.nlm.nih.gov/nuccore/%s\" % record.name)\r\n",
    "        time.sleep(1)\r\n",
    "        cds = browser.find_elements_by_class_name('feature')\r\n",
    "        for i in cds:\r\n",
    "            list = i.text.split()\r\n",
    "            if list[0] == 'CDS':\r\n",
    "                arr=list[1].split('..')\r\n",
    "                x = x+1\r\n",
    "                record.seq = record.seq[int(arr[0])-1:int(arr[1])]\r\n",
    "                SeqIO.write(record,entry,\"fasta\")\r\n",
    "                print(\"Finished writing #\" + x)"
   ],
   "outputs": [
    {
     "output_type": "stream",
     "name": "stdout",
     "text": [
      "1 ====\n",
      "2 ====\n",
      "3 ====\n",
      "4 ====\n",
      "5 ====\n",
      "6 ====\n",
      "7 ====\n",
      "8 ====\n",
      "9 ====\n",
      "10 ====\n",
      "11 ====\n",
      "12 ====\n",
      "13 ====\n",
      "14 ====\n",
      "15 ====\n",
      "16 ====\n",
      "17 ====\n",
      "18 ====\n",
      "19 ====\n",
      "20 ====\n",
      "21 ====\n",
      "22 ====\n",
      "23 ====\n",
      "24 ====\n",
      "25 ====\n",
      "26 ====\n",
      "27 ====\n",
      "28 ====\n",
      "29 ====\n",
      "30 ====\n",
      "31 ====\n",
      "32 ====\n",
      "33 ====\n",
      "34 ====\n"
     ]
    }
   ],
   "metadata": {}
  },
  {
   "cell_type": "code",
   "execution_count": 80,
   "source": [
    "'''\r\n",
    "Convert DNA seqs to AA, given newly CDS-only seqs.\r\n",
    "Write these AA seqs into record files.\r\n",
    "'''\r\n",
    "\r\n",
    "from Bio.Seq import Seq\r\n",
    "import os\r\n",
    "\r\n",
    "# hardcoded paths\n",
    "dna_dir = r\"C:\\Users\\risha\\Desktop\\icor-codon-optimization\\benchmark_sequences\\dna\"\r\n",
    "aa_dir = r\"C:\\Users\\risha\\Desktop\\icor-codon-optimization\\benchmark_sequences\\aa\"\r\n",
    "\r\n",
    "for entry in os.scandir(dna_dir):\r\n",
    "    record = SeqIO.read(entry,'fasta')\r\n",
    "    record.seq = record.translate().seq\r\n",
    "\r\n",
    "    SeqIO.write(record,os.path.join(aa_dir, entry.name[0:-9] + \"aa.fasta\"),\"fasta\")"
   ],
   "outputs": [],
   "metadata": {}
  }
 ]
}