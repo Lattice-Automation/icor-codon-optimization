{
 "metadata": {
  "language_info": {
   "codemirror_mode": {
    "name": "ipython",
    "version": 3
   },
   "file_extension": ".py",
   "mimetype": "text/x-python",
   "name": "python",
   "nbconvert_exporter": "python",
   "pygments_lexer": "ipython3",
   "version": "3.9.4"
  },
  "orig_nbformat": 4,
  "kernelspec": {
   "name": "python3",
   "display_name": "Python 3.9.4 64-bit"
  },
  "interpreter": {
   "hash": "d9feab5a1f5d805ccfa6afac8eb9a08ce4745df9a38ca9beb1bb90cbf90b919c"
  }
 },
 "nbformat": 4,
 "nbformat_minor": 2,
 "cells": [
  {
   "cell_type": "code",
   "execution_count": 1,
   "source": [
    "# Import packages numpy, onnxruntime, and mat73. Mat73 allows us to read .mat files.\r\n",
    "\r\n",
    "import numpy\r\n",
    "import onnxruntime as rt\r\n",
    "import mat73\r\n",
    "train_data = mat73.loadmat(r'C:\\Users\\risha\\Desktop\\ICOR MATLAB\\allseqsworkspace71921.mat')\r\n",
    "\r\n",
    "# Define categorical labels from when model was trained.\r\n",
    "labels = ['AAA', 'AAC','AAG','AAT','ACA','ACG','ACT','AGC','ATA','ATC','ATG','ATT','CAA','CAC','CAG','CCG','CCT','CTA','CTC','CTG','CTT','GAA','GAT','GCA','GCC','GCG','GCT','GGA','GGC','GTC','GTG','GTT','TAA','TAT','TCA','TCG','TCT','TGG','TGT','TTA','TTC','TTG','TTT','ACC','CAT','CCA','CGG','CGT','GAC','GAG','GGT','AGT','GGG','GTA','TGC','CCC','CGA','CGC','TAC','TAG','TCC','AGA','AGG','TGA']\r\n",
    "\r\n",
    "sess = rt.InferenceSession(r\"C:\\Users\\risha\\Desktop\\icor-codon-optimization\\tool\\models\\icor.onnx\")\r\n",
    "input_name = sess.get_inputs()[0].name"
   ],
   "outputs": [],
   "metadata": {}
  },
  {
   "cell_type": "code",
   "execution_count": 2,
   "source": [
    "XTrain = train_data.XTrain[1]"
   ],
   "outputs": [],
   "metadata": {}
  },
  {
   "cell_type": "code",
   "execution_count": null,
   "source": [
    "x = numpy.array(numpy.transpose(XTrain))\r\n",
    "y = x.astype(numpy.float32)\r\n",
    "y = numpy.reshape(y, (153,1,26))\r\n",
    "\r\n",
    "print(y.shape)"
   ],
   "outputs": [],
   "metadata": {}
  },
  {
   "cell_type": "code",
   "execution_count": null,
   "source": [
    "pred_onx = sess.run(None, {input_name: y})\r\n",
    "\r\n",
    "pred_indices = []\r\n",
    "for pred in pred_onx:\r\n",
    "    pred_indices.append(numpy.argmax(pred))\r\n",
    "print(pred_indices)"
   ],
   "outputs": [
    {
     "output_type": "execute_result",
     "data": {
      "text/plain": [
       "(1, 26, 311)"
      ]
     },
     "metadata": {},
     "execution_count": 43
    }
   ],
   "metadata": {}
  },
  {
   "cell_type": "code",
   "execution_count": null,
   "source": [
    "str = \"\"\r\n",
    "for index in pred_indices:\r\n",
    "    str += labels[index]\r\n",
    "print(str)"
   ],
   "outputs": [
    {
     "output_type": "execute_result",
     "data": {
      "text/plain": [
       "(311, 26, 1)"
      ]
     },
     "metadata": {},
     "execution_count": 45
    }
   ],
   "metadata": {}
  }
 ]
}