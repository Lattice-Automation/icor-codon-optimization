{
 "metadata": {
  "language_info": {
   "codemirror_mode": {
    "name": "ipython",
    "version": 3
   },
   "file_extension": ".py",
   "mimetype": "text/x-python",
   "name": "python",
   "nbconvert_exporter": "python",
   "pygments_lexer": "ipython3",
   "version": "3.9.4"
  },
  "orig_nbformat": 4,
  "kernelspec": {
   "name": "python3",
   "display_name": "Python 3.9.4 64-bit"
  },
  "interpreter": {
   "hash": "d9feab5a1f5d805ccfa6afac8eb9a08ce4745df9a38ca9beb1bb90cbf90b919c"
  }
 },
 "nbformat": 4,
 "nbformat_minor": 2,
 "cells": [
  {
   "cell_type": "code",
   "execution_count": 57,
   "metadata": {},
   "outputs": [
    {
     "output_type": "stream",
     "name": "stderr",
     "text": [
      "\n",
      "\n",
      "====== WebDriver manager ======\n",
      "Current google-chrome version is 91.0.4472\n",
      "Get LATEST driver version for 91.0.4472\n",
      "Driver [C:\\Users\\risha\\.wdm\\drivers\\chromedriver\\win32\\91.0.4472.101\\chromedriver.exe] found in cache\n",
      "<ipython-input-57-4b74c9d43edb>:12: DeprecationWarning: use options instead of chrome_options\n",
      "  browser = webdriver.Chrome(ChromeDriverManager().install(), chrome_options=chromeOptions)\n"
     ]
    }
   ],
   "source": [
    "# import modules\n",
    "from selenium import webdriver\n",
    "from webdriver_manager.chrome import ChromeDriverManager\n",
    "from selenium.webdriver.support.select import Select\n",
    "import os\n",
    "from Bio import SeqIO\n",
    "import time\n",
    "import numpy as np\n",
    "\n",
    "#init webdriver + selenium opts\n",
    "chromeOptions = webdriver.ChromeOptions()\n",
    "browser = webdriver.Chrome(ChromeDriverManager().install(), chrome_options=chromeOptions)"
   ]
  },
  {
   "cell_type": "code",
   "execution_count": 71,
   "metadata": {},
   "outputs": [
    {
     "output_type": "stream",
     "name": "stdout",
     "text": [
      "1 ====\n",
      "2 ====\n",
      "3 ====\n",
      "4 ====\n",
      "5 ====\n",
      "6 ====\n",
      "7 ====\n",
      "8 ====\n",
      "9 ====\n",
      "10 ====\n",
      "11 ====\n",
      "12 ====\n",
      "13 ====\n",
      "14 ====\n",
      "15 ====\n",
      "16 ====\n",
      "17 ====\n",
      "18 ====\n",
      "19 ====\n",
      "20 ====\n",
      "21 ====\n",
      "22 ====\n",
      "23 ====\n",
      "24 ====\n",
      "25 ====\n",
      "26 ====\n",
      "27 ====\n",
      "28 ====\n",
      "29 ====\n",
      "30 ====\n",
      "31 ====\n",
      "32 ====\n",
      "33 ====\n",
      "34 ====\n"
     ]
    }
   ],
   "source": [
    "'''\n",
    "Convert DNA seqs to include CDS only\n",
    "'''\n",
    "dir = r\"C:\\Users\\risha\\Desktop\\icor-codon-optimization\\benchmark_sequences\\dna\"\n",
    "x = 1\n",
    "for entry in os.scandir(dir):\n",
    "    record = SeqIO.read(entry,'fasta')\n",
    "    if record.name.startswith(\"NM\"):\n",
    "        browser.get(\"https://www.ncbi.nlm.nih.gov/nuccore/%s\" % record.name)\n",
    "        time.sleep(1)\n",
    "        cds = browser.find_elements_by_class_name('feature')\n",
    "        for i in cds:\n",
    "            list = i.text.split()\n",
    "            if list[0] == 'CDS':\n",
    "                arr=list[1].split('..')\n",
    "                print(x, \"====\")\n",
    "                x = x+1\n",
    "                record.seq = record.seq[int(arr[0])-1:int(arr[1])]\n",
    "                SeqIO.write(record,entry,\"fasta\")"
   ]
  },
  {
   "cell_type": "code",
   "execution_count": 80,
   "metadata": {},
   "outputs": [],
   "source": [
    "'''\n",
    "Convert DNA seqs to AA\n",
    "'''\n",
    "\n",
    "from Bio.Seq import Seq\n",
    "import os\n",
    "\n",
    "dna_dir = r\"C:\\Users\\risha\\Desktop\\icor-codon-optimization\\benchmark_sequences\\dna\"\n",
    "aa_dir = r\"C:\\Users\\risha\\Desktop\\icor-codon-optimization\\benchmark_sequences\\aa\"\n",
    "\n",
    "for entry in os.scandir(dna_dir):\n",
    "    record = SeqIO.read(entry,'fasta')\n",
    "    record.seq = record.translate().seq\n",
    "\n",
    "    SeqIO.write(record,os.path.join(aa_dir, entry.name[0:-9] + \"aa.fasta\"),\"fasta\")"
   ]
  },
  {
   "cell_type": "code",
   "execution_count": 81,
   "metadata": {},
   "outputs": [
    {
     "output_type": "execute_result",
     "data": {
      "text/plain": [
       "1467"
      ]
     },
     "metadata": {},
     "execution_count": 81
    }
   ],
   "source": [
    "str = \"\"\"ATGTCCGATGTTGCCATTGTAAAGGAAGGGTGGTTACACAAGAGGGGCGAATACATTAAG\n",
    "ACTTGGCGCCCGCGATACTTTCTGCTGAAGAACGATGGGACCTTTATCGGTTACAAGGAA\n",
    "CGCCCGCAGGATGTTGACCAGCGTGAAGCGCCGCTGAACAACTTCTCTGTGGCGCAGTGC\n",
    "CAGTTGATGAAGACCGAACGCCCGCGTCCAAACACCTTCATAATCCGTTGTCTTCAATGG\n",
    "ACGACGGTGATTGAGAGAACGTTTCATGTGGAGACCCCGGAAGAGCGCGAGGAGTGGACC\n",
    "ACGGCCATTCAGACCGTCGCTGACGGCTTAAAGAAGCAGGAAGAAGAAGAAATGGACTTT\n",
    "CGCTCCGGCAGCCCCTCCGATAATTCTGGTGCGGAAGAGATGGAAGTAAGTCTTGCAAAG\n",
    "CCGAAGCACAGAGTTACGATGAACGAGTTCGAGTATCTGAAGCTCCTGGGCAAGGGAACG\n",
    "TTCGGCAAGGTCATCCTGGTCAAGGAGAAGGCCACCGGGCGCTACTACGCCATGAAGATC\n",
    "CTGAAGAAGGAGGTGATAGTGGCCAAGGACGAGGTTGCCCACACCCTGACTGAGAACCGG\n",
    "GTTCTGCAGAACTCTAGACACCCATTCCTTACCGCCCTCAAGTACAGCTTCCAAACCCAC\n",
    "GATCGTCTGTGTTTCGTTATGGAGTATGCGAATGGCGGCGAGCTGTTCTTTCATCTCTCC\n",
    "CGCGAACGCGTTTTTAGCGAAGACAGAGCAAGGTTTTACGGGGCGGAGATTGTCAGCGCG\n",
    "CTAGATTATTTACACTCTGAAAAGAACGTTGTGTACCGTGATCTGAAGCTGGAAAACTTA\n",
    "ATGTTGGATAAGGACGGTCATATTAAGATTACCGATTTTGGCCTGTGTAAGGAAGGTATT\n",
    "AAGGATGGTGCGACGATGAAGACCTTTTGCGGCACCCCGGAATATTTGGCTCCGGAAGTA\n",
    "TTGGAGGATAATGATTACGGTCGAGCCGTTGATTGGTGGGGCCTGGGTGTAGTCATGTAT\n",
    "GAAATGATGTGCGGACGCTTACCTTTCTATAATCAGGACCATGAAAAGCTGTTTGAGCTG\n",
    "ATTCTGATGGAGGAAATTCGTTTTCCGCGTACCCTGGGACCAGAAGCGAAGAGCCTGCTT\n",
    "TCAGGGCTGTTGAAGAAGGACCCCAAGCAACGCTTAGGCGGTGGCTCGGAAGATGCCAAG\n",
    "GAAATTATGCAGCACCGTTTCTTTGCGGGGATCGTCTGGCAGCACGTGTATGAAAAGAAG\n",
    "TTAAGTCCACCCTTCAAGCCTCAGGTAACGTCGGAAACTGACACCAGATATTTTGATGAA\n",
    "GAATTCACGGCACAGATGATCACAATTACGCCGCCGGATCAGGATGACTCTATGGAATGT\n",
    "GTTGATAGCGAACGCAGACCCCATTTTCCACAATTTAGTTACTCAGCGTCTGGCACCGCG\n",
    "TGA\"\"\"\n",
    "\n",
    "len(str)"
   ]
  }
 ]
}