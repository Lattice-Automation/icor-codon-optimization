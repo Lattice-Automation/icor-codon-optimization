{
 "metadata": {
  "language_info": {
   "codemirror_mode": {
    "name": "ipython",
    "version": 3
   },
   "file_extension": ".py",
   "mimetype": "text/x-python",
   "name": "python",
   "nbconvert_exporter": "python",
   "pygments_lexer": "ipython3",
   "version": "3.9.4"
  },
  "orig_nbformat": 4,
  "kernelspec": {
   "name": "python3",
   "display_name": "Python 3.9.4 64-bit"
  },
  "interpreter": {
   "hash": "d9feab5a1f5d805ccfa6afac8eb9a08ce4745df9a38ca9beb1bb90cbf90b919c"
  }
 },
 "nbformat": 4,
 "nbformat_minor": 2,
 "cells": [
  {
   "cell_type": "code",
   "execution_count": 1,
   "source": [
    "import numpy\r\n",
    "import onnxruntime as rt\r\n",
    "import mat73\r\n",
    "train_data = mat73.loadmat(r'C:\\Users\\risha\\Desktop\\ICOR MATLAB\\allseqsworkspace71921.mat')\r\n",
    "\r\n",
    "sess = rt.InferenceSession(r\"C:\\Users\\risha\\Desktop\\icor-codon-optimization\\models\\out.onnx\")\r\n",
    "input_name = sess.get_inputs()[0].name"
   ],
   "outputs": [],
   "metadata": {}
  },
  {
   "cell_type": "code",
   "execution_count": 39,
   "source": [
    "XTrain = train_data.XTrain[1]\r\n",
    "XTrain[0].shape"
   ],
   "outputs": [
    {
     "output_type": "execute_result",
     "data": {
      "text/plain": [
       "(26, 821)"
      ]
     },
     "metadata": {},
     "execution_count": 39
    }
   ],
   "metadata": {}
  },
  {
   "cell_type": "code",
   "execution_count": 21,
   "source": [
    "import sys\r\n",
    "numpy.set_printoptions(threshold=sys.maxsize)"
   ],
   "outputs": [],
   "metadata": {}
  },
  {
   "cell_type": "code",
   "execution_count": 4,
   "source": [
    "x = numpy.array(numpy.transpose(XTrain))\r\n",
    "y = x.astype(numpy.float32)\r\n",
    "\r\n",
    "print(y.shape)"
   ],
   "outputs": [
    {
     "output_type": "stream",
     "name": "stdout",
     "text": [
      "(153, 26, 1)\n"
     ]
    }
   ],
   "metadata": {}
  },
  {
   "cell_type": "markdown",
   "source": [
    "y.dtype"
   ],
   "metadata": {}
  },
  {
   "cell_type": "code",
   "execution_count": 5,
   "source": [
    "y.dtype"
   ],
   "outputs": [
    {
     "output_type": "execute_result",
     "data": {
      "text/plain": [
       "dtype('float32')"
      ]
     },
     "metadata": {},
     "execution_count": 5
    }
   ],
   "metadata": {}
  },
  {
   "cell_type": "code",
   "execution_count": 6,
   "source": [
    "y=numpy.reshape(y, (153,1,26))"
   ],
   "outputs": [],
   "metadata": {}
  },
  {
   "cell_type": "code",
   "execution_count": 33,
   "source": [
    "pred_onx = sess.run(None, {input_name: y})"
   ],
   "outputs": [
    {
     "output_type": "error",
     "ename": "IndexError",
     "evalue": "list index out of range",
     "traceback": [
      "\u001b[1;31m---------------------------------------------------------------------------\u001b[0m",
      "\u001b[1;31mIndexError\u001b[0m                                Traceback (most recent call last)",
      "\u001b[1;32m<ipython-input-33-548e354aa652>\u001b[0m in \u001b[0;36m<module>\u001b[1;34m\u001b[0m\n\u001b[1;32m----> 1\u001b[1;33m \u001b[0mlen\u001b[0m\u001b[1;33m(\u001b[0m\u001b[0msess\u001b[0m\u001b[1;33m.\u001b[0m\u001b[0mrun\u001b[0m\u001b[1;33m(\u001b[0m\u001b[1;32mNone\u001b[0m\u001b[1;33m,\u001b[0m \u001b[1;33m{\u001b[0m\u001b[0minput_name\u001b[0m\u001b[1;33m:\u001b[0m \u001b[0my\u001b[0m\u001b[1;33m}\u001b[0m\u001b[1;33m)\u001b[0m\u001b[1;33m[\u001b[0m\u001b[1;36m1\u001b[0m\u001b[1;33m]\u001b[0m\u001b[1;33m)\u001b[0m\u001b[1;33m\u001b[0m\u001b[1;33m\u001b[0m\u001b[0m\n\u001b[0m",
      "\u001b[1;31mIndexError\u001b[0m: list index out of range"
     ]
    }
   ],
   "metadata": {}
  },
  {
   "cell_type": "code",
   "execution_count": 20,
   "source": [
    "pred_indices = []\r\n",
    "for pred in pred_onx:\r\n",
    "    pred_indices.append(numpy.argmax(pred))\r\n",
    "print(pred_indices)"
   ],
   "outputs": [
    {
     "output_type": "stream",
     "name": "stdout",
     "text": [
      "[10, 50, 3, 21, 0, 35, 19, 25, 44, 43, 57, 37, 1, 54, 0, 33, 44, 11, 31, 42, 25, 15, 0, 33, 57, 47, 14, 30, 42, 58, 47, 21, 0, 57, 57, 25, 11, 50, 54, 11, 19, 47, 0, 19, 54, 21, 37, 0, 34, 53, 47, 11, 19, 21, 26, 21, 54, 54, 26, 22, 44, 11, 44, 10, 19, 30, 21, 9, 15, 15, 0, 10, 35, 29, 60, 50, 42, 10, 50, 33, 19, 0, 50, 0, 60, 35, 19, 10, 15, 33, 21, 14, 42, 28, 22, 19, 0, 42, 0, 58, 47, 1, 47, 21, 40, 37, 54, 47, 50, 33, 33, 29, 22, 43, 31, 50, 0, 3, 43, 23, 0, 11, 14, 22, 58, 9, 0, 44, 14, 19, 21, 21, 22, 0, 10, 28, 49, 14, 20, 36, 11, 16, 33, 15, 50, 35, 15, 42, 43, 52, 47, 0, 32]\n"
     ]
    }
   ],
   "metadata": {}
  },
  {
   "cell_type": "code",
   "execution_count": 26,
   "source": [
    "labels = ['AAA', 'AAC','AAG','AAT','ACA','ACG','ACT','AGC','ATA','ATC','ATG','ATT','CAA','CAC','CAG','CCG','CCT','CTA','CTC','CTG','CTT','GAA','GAT','GCA','GCC','GCG','GCT','GGA','GGC','GTC','GTG','GTT','TAA','TAT','TCA','TCG','TCT','TGG','TGT','TTA','TTC','TTG','TTT','ACC','CAT','CCA','CGG','CGT','GAC','GAG','GGT','AGT','GGG','GTA','TGC','CCC','CGA','CGC','TAC','TAG','TCC','AGA','AGG','TGA']\r\n",
    "str = \"\"\r\n",
    "for index in pred_indices:\r\n",
    "    str += labels[index]\r\n",
    "print(str)"
   ],
   "outputs": [
    {
     "output_type": "stream",
     "name": "stdout",
     "text": [
      "ATGGGTAATGAAAAATCGCTGGCGCATACCCGCTGGAACTGCAAATATCATATTGTTTTTGCGCCGAAATATCGCCGTCAGGTGTTTTACCGTGAAAAACGCCGCGCGATTGGTTGCATTCTGCGTAAACTGTGCGAATGGAAATCAGTACGTATTCTGGAAGCTGAATGCTGCGCTGATCATATTCATATGCTGGTGGAAATCCCGCCGAAAATGTCGGTCTCCGGTTTTATGGGTTATCTGAAAGGTAAATCCTCGCTGATGCCGTATGAACAGTTTGGCGATCTGAAATTTAAATACCGTAACCGTGAATTCTGGTGCCGTGGTTATTATGTCGATACCGTTGGTAAAAATACCGCAAAAATTCAGGATTACATCAAACATCAGCTGGAAGAAGATAAAATGGGCGAGCAGCTTTCTATTCCTTATCCGGGTTCGCCGTTTACCGGGCGTAAATAA\n"
     ]
    }
   ],
   "metadata": {}
  },
  {
   "cell_type": "code",
   "execution_count": 8,
   "source": [
    "pred_onx.shape\r\n",
    "#classes function in matlab to see list of 64 classes/order\r\n",
    "#argmax on 64 thing to find the classes (close to 0 = 0 because float32)"
   ],
   "outputs": [
    {
     "output_type": "execute_result",
     "data": {
      "text/plain": [
       "(153, 1, 64)"
      ]
     },
     "metadata": {},
     "execution_count": 8
    }
   ],
   "metadata": {}
  },
  {
   "cell_type": "code",
   "execution_count": null,
   "source": [
    "str1 = \"ATGGGTAATGAAAAATCGCTGGCGCATACCCGCTGGAACTGCAAATATCATATTGTTTTTGCGCCGAAATATCGCCGTCAGGTGTTTTACCGTGAAAAACGCCGCGCGATTGGTTGCATTCTGCGTAAACTGTGCGAATGGAAATCAGTACGTATTCTGGAAGCTGAATGCTGCGCTGATCATATTCATATGCTGGTGGAAATCCCGCCGAAAATGTCGGTCTCCGGTTTTATGGGTTATCTGAAAGGTAAATCCTCGCTGATGCCGTATGAACAGTTTGGCGATCTGAAATTTAAATACCGTAACCGTGAATTCTGGTGCCGTGGTTATTATGTCGATACCGTTGGTAAAAATACCGCAAAAATTCAGGATTACATCAAACATCAGCTGGAAGAAGATAAAATGGGCGAGCAGCTTTCTATTCCTTATCCGGGTTCGCCGTTTACCGGGCGTAAATAA\"\r\n",
    "str2 = \"ATGGGTAATGAAAAATCGCTGGCGCATACCCGCTGGAACTGCAAATATCATATTGTTTTTGCGCCGAAATATCGCCGTCAGGTGTTTTACCGTGAAAAACGCCGCGCGATTGGTTGCATTCTGCGTAAACTGTGCGAATGGAAATCAGTACGTATTCTGGAAGCTGAATGCTGCGCTGATCATATTCATATGCTGGTGGAAATCCCGCCGAAAATGTCGGTCTCCGGTTTTATGGGTTATCTGAAAGGTAAATCCTCGCTGATGCCGTATGAACAGTTTGGCGATCTGAAATTTAAATACCGTAACCGTGAATTCTGGTGCCGTGGTTATTATGTCGATACCGTTGGTAAAAATACCGCAAAAATTCAGGATTACATCAAACATCAGCTGGAAGAAGATAAAATGGGCGAGCAGCTTTCTATTCCTTATCCGGGTTCGCCGTTTACCGGGCGTAAATAA\"\r\n",
    "\r\n",
    "for i in range(len(str1)):\r\n",
    "    "
   ],
   "outputs": [],
   "metadata": {}
  }
 ]
}