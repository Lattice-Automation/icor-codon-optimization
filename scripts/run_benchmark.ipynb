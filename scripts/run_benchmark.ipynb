{
 "metadata": {
  "language_info": {
   "codemirror_mode": {
    "name": "ipython",
    "version": 3
   },
   "file_extension": ".py",
   "mimetype": "text/x-python",
   "name": "python",
   "nbconvert_exporter": "python",
   "pygments_lexer": "ipython3",
   "version": "3.9.4"
  },
  "orig_nbformat": 4,
  "kernelspec": {
   "name": "python3",
   "display_name": "Python 3.9.4 64-bit"
  },
  "interpreter": {
   "hash": "d9feab5a1f5d805ccfa6afac8eb9a08ce4745df9a38ca9beb1bb90cbf90b919c"
  }
 },
 "nbformat": 4,
 "nbformat_minor": 2,
 "cells": [
  {
   "cell_type": "code",
   "execution_count": null,
   "metadata": {},
   "outputs": [],
   "source": [
    "# An interactive notebook that helps benchmark a directory containing FASTA sequences across the following metrics:\r\n",
    "'''\r\n",
    "- Codon Adaptation Index (CAI)\r\n",
    "- GC Content\r\n",
    "- CFD (known un-optimized gene that reduces efficiency)\r\n",
    "- Negative CIS elements\r\n",
    "- Negative repeat elements\r\n",
    "'''"
   ]
  },
  {
   "cell_type": "code",
   "execution_count": 1,
   "metadata": {},
   "outputs": [],
   "source": [
    "# import modules\n",
    "from selenium import webdriver\n",
    "from webdriver_manager.chrome import ChromeDriverManager\n",
    "from selenium.webdriver.support.select import Select\n",
    "import os\n",
    "from Bio import SeqIO\n",
    "import time\n",
    "import numpy as np\n",
    "\n",
    "#init webdriver + selenium opts\n",
    "chromeOptions = webdriver.ChromeOptions()"
   ]
  },
  {
   "cell_type": "code",
   "execution_count": 2,
   "metadata": {},
   "outputs": [
    {
     "output_type": "stream",
     "name": "stderr",
     "text": [
      "\n",
      "\n",
      "====== WebDriver manager ======\n",
      "Current google-chrome version is 91.0.4472\n",
      "Get LATEST driver version for 91.0.4472\n",
      "Driver [C:\\Users\\risha\\.wdm\\drivers\\chromedriver\\win32\\91.0.4472.101\\chromedriver.exe] found in cache\n",
      "<ipython-input-2-e82e7433e4c6>:1: DeprecationWarning: use options instead of chrome_options\n",
      "  browser = webdriver.Chrome(ChromeDriverManager().install(), chrome_options=chromeOptions)\n"
     ]
    }
   ],
   "source": [
    "browser = webdriver.Chrome(ChromeDriverManager().install(), chrome_options=chromeOptions)\n",
    "url_login=\"https://www.genscript.com/tools/rare-codon-analysis\"\n",
    "browser.get(url_login)"
   ]
  },
  {
   "cell_type": "code",
   "execution_count": 3,
   "metadata": {},
   "outputs": [
    {
     "output_type": "stream",
     "name": "stdout",
     "text": [
      "['akt1_dna.fasta', 'BIRC5_dna.fasta', 'BRAF1_dna.fasta', 'CAV1_dna.fasta', 'CDK1_dna.fasta', 'CEBPZ_dna.fasta', 'CLN3_dna.fasta', 'CSNK1A1_dna.fasta', 'emg1_dna.fasta', 'falvac-1_dna.fasta', 'FGFR4_dna.fasta', 'flt1_dna.fasta', 'GSK3B_dna.fasta', 'hpdf_dna.fasta', 'KIF11_dna.fasta', 'LAMP1_dna.fasta', 'lck_dna.fasta', 'LEMD3_dna.fasta', 'MAPK1_dna.fasta', 'MAPKAPK5_dna.fasta', 'mmpl3_dna.fasta', 'msox_dna.fasta', 'NGFR_dna.fasta', 'NOC2L_dna.fasta', 'npr1_dna.fasta', 'OPRM1_dna.fasta', 'pak1_dna.fasta', 'pa_dna.fasta', 'PDCD11_dna.fasta', 'pea_dna.fasta', 'PF3D7_dna.fasta', 'pim1_dna.fasta', 'PLK1_dna.fasta', 'ptp4a3_dna.fasta', 'RPS6KB1_dna.fasta', 'SMARCD1_dna.fasta', 'soxB_dna.fasta', 'TAP1_dna.fasta', 'TAS2R10_dna.fasta', 'ubtf_dna.fasta']\n[Seq('TAATTATGGGTCTGTAACCACCCTGGACTGGGTGCTCCTCACTGACGGACTTGT...AAA'), Seq('GCGGCGCGCCATTAACCGCCAGATTTGAATCGCGGGACCCGTTGGCAGAGGTGG...CTA'), Seq('CTTCCCCCAATCCCCTCAGGCTCGGCTGCGCCCGGGGCCGCGGGCCGGTACCTG...GCA'), Seq('ACAGTTTTCATCCAGCCACGGGCCAGCATGTCTGGGGGCAAATACGTAGACTCG...TTA'), Seq('GCACTTGGCTTCAAAGCTGGCTCTTGGAAATTGAGCGGAGAGCGACGCGGTTGT...AAT'), Seq('GAGTTTCACGCGCGTATGCTTTGCCCGCCATGGCCGCAGTCAAGGAGCCTTTGG...TAA'), Seq('GTGCTGTCACGTGATCCGACAAACGGCCTCTGCATAGTGCAGAACATTCTGCTG...GAA'), Seq('CCCAGAGTGCTCTGCGCCGTGAAGAAGCGGCTCCCGGGGACTGGGGGCATTTTG...CGT'), Seq('ATTGTTGCAAGATGGCCGCGCCCAGTGATGGATTCAAGCCTCGTGAACGAAGCG...TGA'), Seq('ATGGCTAAACATAAAAAATTAAAGCAACCAGGGGATGGTAATCCTTGGTCCCCA...GAA'), Seq('CATTCCTCGCTCCCGGCCGAGGAGCGCTCGGGCTGTCTGCGGACCCTGCCGCGT...GGT'), Seq('ATCGAGGTCCGCGGGAGGCTCGGAGCGCGCCAGGCGGACACTCCTCTCGGCTCC...CAC'), Seq('ACACAGAGCAGCTCCTGACCCGGGCGAATGCGGGCTTGTGCCGCCGCCGCCGCC...CGA'), Seq('GAGGGCCCGGCGCTGGGGCGCTCCTATTGGCGCCACCTGAGGCGTCTGGTGCTG...TAA'), Seq('AGTTTCTGGGGATTCGGGCGGAGACGAGATTAGTGATTTGGCGGCTCCGACTGG...TAA'), Seq('ACGTGACAAGCGCTGCCGGCCGCGGTGTCTTCTTCGTGCCGGCGTCGCAGTGGC...CAG'), Seq('GAGACAGGTGGTGGCTACGACGGCGAAGGGAGCTGAGACTGTCCAGGCAGCCAG...GTA'), Seq('ACCCTGGAGAGAAAATGGCGGCGGCAGCAGCTTCGGCGCCTCAGCAGCTCTCGG...AAC'), Seq('AGTCTGGCAGGCAGGCAGGCAATCGGTCCGAGTGGCTGTCGGCTCTTCAGCTCT...TAA'), Seq('GTCCCGGCGATGTGTGGCGCTGAGGCGGCGGCGGGAGCAGCGGCGCCGAGCTCT...ACA'), Seq('GTGTTCGCCTGGTGGGGTCGAACTGTGTACCGCTACCGGTTCATCGTAATCGGG...TAA'), Seq('ATGAGCACGCATTTTGATGTAATTGTAGTTGGTGCTGGATCAATGGGGATGGCA...TAA'), Seq('AGAGCGAGCCGAGCCGCGGCCAGCTCCGGCGGGCAGGGGGGGCGCTGGAGCGCA...AAA'), Seq('GCTTCGGGTTGGTGTCATGGCAGCTGCGGGGAGCCGCAAGAGGCGCCTGGCGGA...TGA'), Seq('ACACTCCCTGGGGCAGGCGCTCACGCACGCTACAAACACACACTCCTCTTTCCT...TGA'), Seq('CTCCCTCCCTTCCAGCCTCCGAATCCCGCATGGCCCACGCTCCCCTCCTGCAGC...ACA'), Seq('GTACAATAGCGCGGCTGTGGGCGGGGGAGGCTGCCCTCCCGCGGCTGCAGCCGG...TTC'), Seq('ATGGAAGACTTTGTGCGACAATGCTTCAATCCAATGATCGTCGAGCTTGCGGAA...TAA'), Seq('ACACTTCCGGAAGAATTGCACTGGACTGTGGGTATCCTGGTCTCCGCGTGTGTG...AGA'), Seq('GCCGAGGAAGCCTTCGACCTGTGGAACGAATGCGCCAAGGCCTGCGTGCTCGAC...AAG'), Seq('ATGAGAAAATTATACTGCGTATTATTATTGAGCGCCTTTGAGTTTACATATATG...TAA'), Seq('ACTCCTGGCTGCGGGGCGAGCCGGGCGTCTGCTGCAGCGGCCGCGGTGGCTGAG...TAA'), Seq('GGAGGCTCTGCTCGGATCGAGGTCTGCAGCGCAGCTTCGGGAGCATGAGTGCTG...TTC'), Seq('AGCAGCCATCACCATCATCACCATAGCAGCGGTGAGAATCTGTACTTCCAAGGC...CGG'), Seq('GCACTGAGCCTAAGCAGCCGGTGATGGCGGCAGCGGCTGTGGTGGCTGCGGCGG...AAA'), Seq('GTGCGGCTGCATCGGCGGCTCCGGGAAGATGGCGGCCCGGGCGGGTTTCCAGTC...ATT'), Seq('CCAAACCTGAAAAAGATCGGAGAATAGCCATGGCTGATTTGCTGCCTGAGCACC...GCC'), Seq('GCTTCAGGCCCCACCGGGGCGCGGAGAGTCCCAGGCCCGGCCGGGACCGGGACG...GTA'), Seq('ATGCTACGTGTAGTGGAAGGCATCTTCATTTTTGTTGTAGTTAGTGAGTCAGTG...TAG'), Seq('GTGCTTTTCGCCGCGAGGAGCAGCAGGCAGCAGCCACAGCCGCCGCCGCCGCCG...CAA')]\n"
     ]
    }
   ],
   "source": [
    "#Read all files from directory and create two arrays\n",
    "#One array (arr_names) contains each sequence's name\n",
    "#One array (arr_sequences) contains each sequence's \"seq\"\n",
    "\n",
    "#benchmark_sequences/dna folder contains the original sequences, so it was used for original benchmarks.\n",
    "#benchmark_sequences/super_naive contains the super_naive sequences so it was used for those.\n",
    "#benchmark_sequences/naive contains the naive sequences so it was used for those.\n",
    "#benchmark_sequences/ICOR contains the ICOR sequences so it was used for those.\n",
    "\n",
    "dir = r\"C:\\Users\\risha\\Desktop\\icor-codon-optimization\\benchmark_sequences\\dna\"\n",
    "summary_name = \"original_benchmarks\"\n",
    "\n",
    "arr_names = []\n",
    "arr_sequences = []\n",
    "\n",
    "for entry in os.scandir(dir):\n",
    "    record = SeqIO.read(entry,'fasta')\n",
    "    arr_names.append(entry.name)\n",
    "    arr_sequences.append(record.seq)\n",
    "\n",
    "print(arr_names)\n",
    "print(arr_sequences)"
   ]
  },
  {
   "cell_type": "code",
   "execution_count": 4,
   "metadata": {},
   "outputs": [],
   "source": [
    "benchmarks = np.array([\"Gene Name\", \"CAI\", \"GC Content\", \"CFD\", \"Negative CIS Elements\", \"Negative Repeat Elements\", \"Raw Sequence\"])\n",
    "\n",
    "for i in range(len(arr_sequences)):\n",
    "    print(\"We are now benchmarking sequence #%d!\" % (i + 1))\n",
    "    analysis_button=browser.find_element_by_name(\"op\")\n",
    "    seq_box=browser.find_element_by_name(\"seq\")\n",
    "    time.sleep(0.5)\n",
    "    seq_box.clear()\n",
    "    seq_box.send_keys(arr_sequences[i])\n",
    "\n",
    "    time.sleep(0.5)\n",
    "    analysis_button.click()\n",
    "\n",
    "    #wait 9s for analysis\n",
    "    time.sleep(9)\n",
    "\n",
    "    #get tables on genscript page\n",
    "    tables = browser.find_elements_by_xpath('//table[1]')\n",
    "\n",
    "    #find seq\n",
    "    seq = str(tables[0].text).split('Sequence')[1].strip().split('\\n')\n",
    "    seq.pop()\n",
    "    seq = \"\".join(seq)\n",
    "\n",
    "    #find body of first table\n",
    "    body_1 = tables[2].text.split('\\n')\n",
    "\n",
    "    #find cai, gc, cfd\n",
    "    CAI = [i for i in body_1 if i.startswith('CAI')][0][4:8]\n",
    "    GC = [i for i in body_1 if i.startswith('GC Content')][0][11:17]\n",
    "    CFD = [i for i in body_1 if i.startswith('CFD')][0][4:7]\n",
    "\n",
    "    #find body of second table\n",
    "    body_2 = tables[3].text.split('\\n')[1].split(' ')\n",
    "\n",
    "    #find negative cis, negative repeats\n",
    "    CIS = body_2[0]\n",
    "    Repeats = body_2[1]\n",
    "    benchmarks = np.vstack((benchmarks,[arr_names[i],CAI,GC,CFD,CIS,Repeats,seq]))\n",
    "    browser.back()\n",
    "\n",
    "    #Wait one second before repeating\n",
    "    time.sleep(1)"
   ]
  },
  {
   "cell_type": "code",
   "execution_count": 5,
   "metadata": {},
   "outputs": [],
   "source": [
    "#Save calculated benchmarks to CSV file for later review!\n",
    "#Repeat this script for each benchmark (original, super_naive, naive, ICOR tool)\n",
    "\n",
    "np.savetxt(\"%s.csv\" % (summary_name), benchmarks, fmt='%s', delimiter=\",\")\n",
    "#the saved files were then moved to the summaries directory."
   ]
  }
 ]
}