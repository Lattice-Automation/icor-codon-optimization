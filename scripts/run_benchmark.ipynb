{
 "metadata": {
  "language_info": {
   "codemirror_mode": {
    "name": "ipython",
    "version": 3
   },
   "file_extension": ".py",
   "mimetype": "text/x-python",
   "name": "python",
   "nbconvert_exporter": "python",
   "pygments_lexer": "ipython3",
   "version": "3.9.4"
  },
  "orig_nbformat": 4,
  "kernelspec": {
   "name": "python3",
   "display_name": "Python 3.9.4 64-bit"
  },
  "interpreter": {
   "hash": "d9feab5a1f5d805ccfa6afac8eb9a08ce4745df9a38ca9beb1bb90cbf90b919c"
  }
 },
 "nbformat": 4,
 "nbformat_minor": 2,
 "cells": [
  {
   "cell_type": "code",
   "execution_count": null,
   "metadata": {},
   "outputs": [],
   "source": [
    "# An interactive notebook that helps benchmark a directory containing FASTA sequences across the following metrics:\r\n",
    "'''\r\n",
    "- Codon Adaptation Index (CAI)\r\n",
    "- GC Content\r\n",
    "- CFD (known un-optimized gene that reduces efficiency)\r\n",
    "- Negative CIS elements\r\n",
    "- Negative repeat elements\r\n",
    "'''"
   ]
  },
  {
   "cell_type": "code",
   "execution_count": 2,
   "metadata": {},
   "outputs": [],
   "source": [
    "# import modules\n",
    "from selenium import webdriver\n",
    "from webdriver_manager.chrome import ChromeDriverManager\n",
    "from selenium.webdriver.support.select import Select\n",
    "import os\n",
    "from Bio import SeqIO\n",
    "import time\n",
    "import numpy as np\n",
    "\n",
    "#init webdriver + selenium opts\n",
    "chromeOptions = webdriver.ChromeOptions()"
   ]
  },
  {
   "cell_type": "code",
   "execution_count": 3,
   "metadata": {},
   "outputs": [
    {
     "output_type": "stream",
     "name": "stderr",
     "text": [
      "\n",
      "\n",
      "====== WebDriver manager ======\n",
      "Current google-chrome version is 91.0.4472\n",
      "Get LATEST driver version for 91.0.4472\n",
      "Driver [C:\\Users\\risha\\.wdm\\drivers\\chromedriver\\win32\\91.0.4472.101\\chromedriver.exe] found in cache\n",
      "<ipython-input-3-e82e7433e4c6>:1: DeprecationWarning: use options instead of chrome_options\n",
      "  browser = webdriver.Chrome(ChromeDriverManager().install(), chrome_options=chromeOptions)\n"
     ]
    }
   ],
   "source": [
    "browser = webdriver.Chrome(ChromeDriverManager().install(), chrome_options=chromeOptions)\n",
    "url_login=\"https://www.genscript.com/tools/rare-codon-analysis\"\n",
    "browser.get(url_login)"
   ]
  },
  {
   "cell_type": "code",
   "execution_count": 29,
   "metadata": {},
   "outputs": [
    {
     "output_type": "stream",
     "name": "stdout",
     "text": [
      "['akt1_dna', 'BIRC5_dna', 'BRAF1_dna', 'CAV1_dna', 'CDK1_dna', 'CEBPZ_dna', 'CLN3_dna', 'CSNK1A1_dna', 'emg1_dna', 'falvac-1_dna', 'FGFR4_dna', 'flt1_dna', 'GSK3B_dna', 'hpdf_dna', 'KIF11_dna', 'LAMP1_dna', 'lck_dna', 'LEMD3_dna', 'MAPK1_dna', 'MAPKAPK5_dna', 'mmpl3_dna', 'msox_dna', 'NGFR_dna', 'NOC2L_dna', 'npr1_dna', 'OPRM1_dna', 'pak1_dna', 'pa_dna', 'PDCD_dna', 'pea_dna', 'PF3D7_dna', 'pim1_dna', 'PLK1_dna', 'ptp4a3_dna', 'RPS6KB1_dna', 'SMARCD1_dna', 'soxB_dna', 'TAP1_dna', 'TAS2R10_dna', 'ubtf_dna']\n[Seq('ATGTCAGATGTCGCAATAGTTAAGGAGGGTTGGCTACACAAACGCGGAGAATAT...GCC'), Seq('ATGGGAGCTCCAACACTACCACCGGCATGGCAACCCTTTTTAAAGGATCATCGA...GAT'), Seq('ATGGCTGCCTTATCAGGGGGAGGGGGGGGAGGAGCGGAACCTGGACAGGCCCTT...CAC'), Seq('ATGTCTGGGGGTAAGTACGTAGACAGTGAGGGACACTTATACACTGTACCCATC...ATC'), Seq('ATGGAGGACTACACCAAGATTGAAAAGATAGGCGAAGGAACATACGGCGTTGTA...ATG'), Seq('ATGGCAGCAGTGAAAGAACCCCTTGAGTTTCACGCCAAAAGACCGTGGAGACCA...AAG'), Seq('ATGGGGGGCTGTGCAGGCTCCCGCCGAAGATTCTCTGACTCGGAGGGCGAGGAG...TCT'), Seq('ATGGCCTCTTCTAGTGGAAGCAAAGCGGAATTTATAGTCGGGGGCAAATATAAG...TTC'), Seq('ATGGCTGCGCCTTCAGATGGATTCAAGCCGAGAGAACGTTCGGGTGGTGAACAG...ATC'), Seq('ATGGCGAAGCATAAGAAGCTTAAGCAGCCTGGGGACGGTAATCCCTGGTCACCC...GAG'), Seq('ATGAGGCTACTGTTAGCGTTGTTGGGTGTATTACTATCGGTTCCGGGTCCCCCC...ACT'), Seq('ATGGTATCTTATTGGGACACGGGTGTGCTTCTCTGTGCCCTGCTTTCTTGCTTA...ATC'), Seq('ATGTCGGGTCGGCCTAGAACTACTTCTTTTGCCGAATCTTGTAAACCCGTTCAG...ACG'), Seq('GAAGGGCCGGCGCTCGGCCGGTCCTACTGGCGACACTTGAGACGGCTCGTTCTG...TGA'), Seq('ATGGCGTCTCAACCGAATTCGAGCGCCAAGAAGAAAGAGGAAAAGGGGAAAAAC...CTG'), Seq('ATGGCAGCCCCCGGATCAGCCCGACGCCCATTGTTATTATTGCTTTTGCTTTTG...ATC'), Seq('ATGGGCTGCGGTTGTAGTTCGCACCCTGAAGACGATTGGATGGAAAATATAGAT...CCT'), Seq('ATGGCAGCCGCAGCCGCTTCAGCACCCCAGCAGCTGTCAGACGAAGAGCTTTTC...TCC'), Seq('ATGGCGGCGGCGGCTGCAGCTGGAGCCGGCCCAGAGATGGTCAGAGGTCAAGTC...AGT'), Seq('ATGAGTGAGGAATCGGACATGGATAAAGCCATTAAAGAGACGTCCATCTTAGAG...CAG'), Seq('GTCTTCGCATGGTGGGGGAGAACAGTCTACCGATACCGCTTCATTGTTATCGGG...TGA'), Seq('ATGTCCACGCACTTCGACGTGATAGTCGTCGGAGCAGGGTCAATGGGCATGGCT...AAG'), Seq('ATGGGCGCAGGCGCCACCGGTCGGGCAATGGATGGGCCCCGGCTACTGCTTTTA...GTC'), Seq('ATGGCTGCTGCCGGCTCCCGCAAACGCCGCTTGGCGGAGCTTACAGTAGATGAG...GAT'), Seq('ATGCCTGGCCCACGCCGTCCAGCTGGTTCTCGGCTTCGGTTGCTTTTGTTATTA...GGT'), Seq('ATGGACAGTTCCGCTGCTCCAACGAACGCGTCTAACTGTACAGATGCTTTGGCC...CCT'), Seq('ATGAGCAATAATGGACTGGATATTCAAGATAAGCCACCGGCTCCTCCTATGCGA...CAC'), Seq('ATGGAGGACTTTGTGCGGCAGTGCTTTAACCCCATGATTGTTGAGCTGGCAGAG...TAA'), Seq('ATGGCTAACTTAGAGGAGAGCTTTCCACGTGGAGGAACAAGAAAAATTCACAAA...GAC'), Seq('GCTGAAGAGGCCTTTGATCTGTGGAACGAATGCGCCAAGGCGTGCGTGCTTGAT...AAG'), Seq('ATGAGAAAATTATACTGCGTACTCTTGCTCTCCGCTTTTGAATTCACCTATATG...TAC'), Seq('ATGTTGCTGTCTAAAATCAATAGCCTGGCACATCTTCGTGCAGCTCCATGCAAC...AAG'), Seq('ATGTCAGCAGCAGTCACCGCTGGTAAATTGGCCCGAGCGCCCGCCGATCCAGGA...TCA'), Seq('AGCTCTCACCATCACCACCATCACTCGAGTGGTGAAAATTTATATTTTCAGGGG...CGG'), Seq('ATGCGGAGGCGCAGGCGTAGGGATGGCTTCTACCCGGCACCGGACTTCAGGGAT...CTT'), Seq('ATGGCTGCACGAGCAGGGTTCCAATCCGTTGCACCCTCAGGTGGCGCGGGAGCT...ACG'), Seq('ATGGCGGACTTGCTCCCAGAACATCCCGAGTTTCTTTGGGCCAACCCTGAACCA...CAT'), Seq('ATGGCCTCATCACGATGTCCAGCACCGAGAGGTTGCCGTTGCCTTCCGGGTGCC...GAA'), Seq('ATGCTACGAGTAGTCGAAGGGATATTTATCTTTGTCGTAGTATCAGAATCAGTC...ACT'), Seq('ATGAATGGGGAGGCGGACTGCCCAACTGACCTGGAGATGGCCGCCCCGAAAGGA...AAT')]\n"
     ]
    }
   ],
   "source": [
    "#Read all files from directory and create three arrays\n",
    "#One array contains each sequence's name\n",
    "#One array contains each sequence's \"seq\"\n",
    "#One array will contain benchmark values for each seq.\n",
    "\n",
    "dir = r\"C:\\Users\\risha\\Desktop\\icor-codon-optimization\\benchmark_sequences\\super_naive\"\n",
    "summary_name = \"super_naive_benchmarks\"\n",
    "\n",
    "arr_names = []\n",
    "arr_seqs = []\n",
    "arr_benchmarks = []\n",
    "\n",
    "for entry in os.scandir(dir):\n",
    "    record = SeqIO.read(entry,'fasta')\n",
    "    arr_names.append(entry.name)\n",
    "    arr_benchmarks.append(record.seq)\n",
    "\n",
    "print(arr_names)\n",
    "print(arr_benchmarks)"
   ]
  },
  {
   "cell_type": "code",
   "execution_count": 31,
   "metadata": {},
   "outputs": [],
   "source": [
    "benchmarks = np.array([\"Gene Name\", \"CAI\", \"GC Content\", \"CFD\", \"Negative CIS Elements\", \"Negative Repeat Elements\", \"Raw Sequence\"])\n",
    "\n",
    "for i in range(len(arr_benchmarks)):\n",
    "    analysis_button=browser.find_element_by_name(\"op\")\n",
    "    seq_box=browser.find_element_by_name(\"seq\")\n",
    "    time.sleep(0.5)\n",
    "    seq_box.clear()\n",
    "    seq_box.send_keys(arr_benchmarks[i])\n",
    "\n",
    "    time.sleep(0.5)\n",
    "    analysis_button.click()\n",
    "\n",
    "    #wait 10s for analysis\n",
    "    time.sleep(10)\n",
    "\n",
    "    #get tables on genscript page\n",
    "    tables = browser.find_elements_by_xpath('//table[1]')\n",
    "\n",
    "    #find seq\n",
    "    seq = str(tables[0].text).split('Sequence')[1].strip().split('\\n')\n",
    "    seq.pop()\n",
    "    seq = \"\".join(seq)\n",
    "\n",
    "    #find body of first table\n",
    "    body_1 = tables[2].text.split('\\n')\n",
    "\n",
    "    #find cai, gc, cfd\n",
    "    CAI = [i for i in body_1 if i.startswith('CAI')][0][4:8]\n",
    "    GC = [i for i in body_1 if i.startswith('GC Content')][0][11:17]\n",
    "    CFD = [i for i in body_1 if i.startswith('CFD')][0][4:7]\n",
    "\n",
    "    #find body of second table\n",
    "    body_2 = tables[3].text.split('\\n')[1].split(' ')\n",
    "\n",
    "    #find negative cis, negative repeats\n",
    "    CIS = body_2[0]\n",
    "    Repeats = body_2[1]\n",
    "    benchmarks = np.vstack((benchmarks,[arr_names[i],CAI,GC,CFD,CIS,Repeats,seq]))\n",
    "    browser.back()\n",
    "\n",
    "    #Wait one second before repeating\n",
    "    time.sleep(1)"
   ]
  },
  {
   "cell_type": "code",
   "execution_count": 33,
   "metadata": {},
   "outputs": [],
   "source": [
    "#Save calculated benchmarks to CSV file for later review!\n",
    "#Repeat this script for each benchmark (original, super_naive, naive, ICOR tool)\n",
    "\n",
    "np.savetxt(\"%s.csv\" % (summary_name), benchmarks, fmt='%s', delimiter=\",\")"
   ]
  },
  {
   "cell_type": "code",
   "execution_count": null,
   "metadata": {},
   "outputs": [],
   "source": []
  }
 ]
}