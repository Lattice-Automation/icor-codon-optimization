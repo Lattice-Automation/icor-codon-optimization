{
 "metadata": {
  "language_info": {
   "codemirror_mode": {
    "name": "ipython",
    "version": 3
   },
   "file_extension": ".py",
   "mimetype": "text/x-python",
   "name": "python",
   "nbconvert_exporter": "python",
   "pygments_lexer": "ipython3",
   "version": "3.9.4"
  },
  "orig_nbformat": 4,
  "kernelspec": {
   "name": "python3",
   "display_name": "Python 3.9.4 64-bit"
  },
  "interpreter": {
   "hash": "d9feab5a1f5d805ccfa6afac8eb9a08ce4745df9a38ca9beb1bb90cbf90b919c"
  }
 },
 "nbformat": 4,
 "nbformat_minor": 2,
 "cells": [
  {
   "cell_type": "code",
   "execution_count": 1,
   "source": [
    "# An interactive notebook that helps benchmark a directory containing FASTA sequences across the following metrics:\r\n",
    "'''\r\n",
    "- Codon Adaptation Index (CAI)\r\n",
    "- GC Content\r\n",
    "- CFD (known un-optimized gene that reduces efficiency)\r\n",
    "- Negative CIS elements\r\n",
    "- Negative repeat elements\r\n",
    "'''"
   ],
   "outputs": [
    {
     "output_type": "execute_result",
     "data": {
      "text/plain": [
       "'\\n- Codon Adaptation Index (CAI)\\n- GC Content\\n- CFD (known un-optimized gene that reduces efficiency)\\n- Negative CIS elements\\n- Negative repeat elements\\n'"
      ]
     },
     "metadata": {},
     "execution_count": 1
    }
   ],
   "metadata": {}
  },
  {
   "cell_type": "code",
   "execution_count": 1,
   "source": [
    "# import modules\r\n",
    "from selenium import webdriver\r\n",
    "from webdriver_manager.chrome import ChromeDriverManager\r\n",
    "from selenium.webdriver.support.select import Select\r\n",
    "import os\r\n",
    "from Bio import SeqIO\r\n",
    "import time\r\n",
    "import numpy as np\r\n",
    "\r\n",
    "#init webdriver + selenium opts\r\n",
    "chromeOptions = webdriver.ChromeOptions()"
   ],
   "outputs": [],
   "metadata": {}
  },
  {
   "cell_type": "code",
   "execution_count": 2,
   "source": [
    "#set up chromedriver\r\n",
    "browser = webdriver.Chrome(ChromeDriverManager().install(), chrome_options=chromeOptions)\r\n",
    "url_login=\"https://www.genscript.com/tools/rare-codon-analysis\"\r\n",
    "browser.get(url_login)"
   ],
   "outputs": [
    {
     "output_type": "stream",
     "name": "stderr",
     "text": [
      "\n",
      "\n",
      "====== WebDriver manager ======\n",
      "Current google-chrome version is 92.0.4515\n",
      "Get LATEST driver version for 92.0.4515\n",
      "There is no [win32] chromedriver for browser 92.0.4515 in cache\n",
      "Get LATEST driver version for 92.0.4515\n",
      "Trying to download new driver from https://chromedriver.storage.googleapis.com/92.0.4515.107/chromedriver_win32.zip\n",
      "Driver has been saved in cache [C:\\Users\\risha\\.wdm\\drivers\\chromedriver\\win32\\92.0.4515.107]\n",
      "<ipython-input-2-6f1285b40176>:2: DeprecationWarning: use options instead of chrome_options\n",
      "  browser = webdriver.Chrome(ChromeDriverManager().install(), chrome_options=chromeOptions)\n"
     ]
    }
   ],
   "metadata": {}
  },
  {
   "cell_type": "code",
   "execution_count": 3,
   "source": [
    "#Read all files from directory and create two arrays\r\n",
    "#One array (arr_names) contains each sequence's name\r\n",
    "#One array (arr_sequences) contains each sequence's \"seq\"\r\n",
    "\r\n",
    "#benchmark_sequences\\dna folder contains the original sequences, so it was used for original benchmarks.\r\n",
    "#benchmark_sequences\\super_naive contains the super_naive sequences so it was used for those.\r\n",
    "#benchmark_sequences\\naive contains the naive sequences so it was used for those.\r\n",
    "#benchmark_sequences\\ICOR contains the ICOR sequences so it was used for those.\r\n",
    "\r\n",
    "dir = r\"C:\\Users\\risha\\Desktop\\icor-codon-optimization\\benchmark_sequences\\brute\"\r\n",
    "summary_name = \"brute\"\r\n",
    "\r\n",
    "#initialize arrays\r\n",
    "arr_names = []\r\n",
    "arr_sequences = []\r\n",
    "\r\n",
    "#read all files from directory\r\n",
    "for entry in os.scandir(dir):\r\n",
    "    record = SeqIO.read(entry,'fasta')\r\n",
    "    arr_names.append(entry.name)\r\n",
    "    arr_sequences.append(record.seq)\r\n",
    "\r\n",
    "#sanity check: print the array names to verify they were read correctly\r\n",
    "print(arr_names)"
   ],
   "outputs": [
    {
     "output_type": "stream",
     "name": "stdout",
     "text": [
      "['AKT1_dna.fasta', 'BIRC5_dna.fasta', 'BRAF1_dna.fasta', 'CAV1_dna.fasta', 'CD80_dna.fasta', 'CDK1_dna.fasta', 'CEBPZ_dna.fasta', 'CLN3_dna.fasta', 'CREB1_dna.fasta', 'CSNK1A1_dna.fasta', 'EMG1_dna.fasta', 'FALVAC-1_dna.fasta', 'FGFR4_dna.fasta', 'FLT1_dna.fasta', 'GSK3B_dna.fasta', 'HPDF_dna.fasta', 'JUN_dna.fasta', 'KIF11_dna.fasta', 'LAMP1_dna.fasta', 'LCK_dna.fasta', 'LEMD3_dna.fasta', 'MAPK1_dna.fasta', 'MAPKAPK5_dna.fasta', 'MMPL3_dna.fasta', 'NGFR_dna.fasta', 'NOC2L_dna.fasta', 'NPR1_dna.fasta', 'OPRM1_dna.fasta', 'PAK1_dna.fasta', 'PA_dna.fasta', 'PDCD11_dna.fasta', 'PEA_dna.fasta', 'PIM1_dna.fasta', 'PLK1_dna.fasta', 'PTP4A3_dna.fasta', 'RPS6KB1_dna.fasta', 'SMARCD1_dna.fasta', 'TAP1_dna.fasta', 'TAS2R10_dna.fasta', 'UBTF_dna.fasta']\n"
     ]
    }
   ],
   "metadata": {}
  },
  {
   "cell_type": "code",
   "execution_count": 4,
   "source": [
    "#initialize benchmark array consisting of the following:\r\n",
    "benchmarks = np.array([\"Gene Name\", \"CAI\", \"GC Content\", \"CFD\", \"Negative CIS Elements\", \"Negative Repeat Elements\", \"Raw Sequence\"])\r\n",
    "\r\n",
    "#loop through each sequence and run the benchmark\r\n",
    "for i in range(len(arr_sequences)):\r\n",
    "    \r\n",
    "    print(\"We are now benchmarking sequence #%d!\" % (i + 1))\r\n",
    "    analysis_button=browser.find_element_by_name(\"op\")\r\n",
    "    seq_box=browser.find_element_by_name(\"seq\")\r\n",
    "\r\n",
    "    #clear the sequence box\r\n",
    "    time.sleep(0.5)\r\n",
    "    seq_box.clear()\r\n",
    "    seq_box.send_keys(arr_sequences[i])\r\n",
    "\r\n",
    "    #click the analysis button\r\n",
    "    time.sleep(0.5)\r\n",
    "    analysis_button.click()\r\n",
    "\r\n",
    "    #wait 7s for analysis (doing less may be too fast)\r\n",
    "    time.sleep(7)\r\n",
    "\r\n",
    "    #get tables on genscript page\r\n",
    "    tables = browser.find_elements_by_xpath('//table[1]')\r\n",
    "\r\n",
    "    #find seq\r\n",
    "    seq = str(tables[0].text).split('Sequence')[1].strip().split('\\n')\r\n",
    "    seq.pop()\r\n",
    "    seq = \"\".join(seq)\r\n",
    "\r\n",
    "    #find body of first table\r\n",
    "    body_1 = tables[2].text.split('\\n')\r\n",
    "\r\n",
    "    #find cai, gc, cfd\r\n",
    "    CAI = [i for i in body_1 if i.startswith('CAI')][0][4:8]\r\n",
    "    GC = [i for i in body_1 if i.startswith('GC Content')][0][11:17]\r\n",
    "    CFD = [i for i in body_1 if i.startswith('CFD')][0][4:7]\r\n",
    "\r\n",
    "    #find body of second table\r\n",
    "    body_2 = tables[3].text.split('\\n')[1].split(' ')\r\n",
    "\r\n",
    "    #find negative cis, negative repeats\r\n",
    "    CIS = body_2[0]\r\n",
    "    Repeats = body_2[1]\r\n",
    "    benchmarks = np.vstack((benchmarks,[arr_names[i],CAI,GC,CFD,CIS,Repeats,seq]))\r\n",
    "    browser.back()\r\n",
    "\r\n",
    "    #Wait one second before repeating\r\n",
    "    time.sleep(1)"
   ],
   "outputs": [
    {
     "output_type": "stream",
     "name": "stdout",
     "text": [
      "We are now benchmarking sequence #1!\n",
      "We are now benchmarking sequence #2!\n",
      "We are now benchmarking sequence #3!\n",
      "We are now benchmarking sequence #4!\n",
      "We are now benchmarking sequence #5!\n",
      "We are now benchmarking sequence #6!\n",
      "We are now benchmarking sequence #7!\n",
      "We are now benchmarking sequence #8!\n",
      "We are now benchmarking sequence #9!\n",
      "We are now benchmarking sequence #10!\n",
      "We are now benchmarking sequence #11!\n",
      "We are now benchmarking sequence #12!\n",
      "We are now benchmarking sequence #13!\n",
      "We are now benchmarking sequence #14!\n",
      "We are now benchmarking sequence #15!\n",
      "We are now benchmarking sequence #16!\n",
      "We are now benchmarking sequence #17!\n",
      "We are now benchmarking sequence #18!\n",
      "We are now benchmarking sequence #19!\n",
      "We are now benchmarking sequence #20!\n",
      "We are now benchmarking sequence #21!\n",
      "We are now benchmarking sequence #22!\n",
      "We are now benchmarking sequence #23!\n",
      "We are now benchmarking sequence #24!\n"
     ]
    }
   ],
   "metadata": {}
  },
  {
   "cell_type": "code",
   "execution_count": null,
   "source": [
    "#Save calculated benchmarks to CSV file for later review!\r\n",
    "#Repeat this script for each benchmark (original, super_naive, naive, ICOR tool)\r\n",
    "\r\n",
    "np.savetxt(\"%s.csv\" % (summary_name), benchmarks, fmt='%s', delimiter=\",\")\r\n",
    "#the saved files were then moved to the summaries directory."
   ],
   "outputs": [],
   "metadata": {}
  }
 ]
}